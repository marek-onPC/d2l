{
 "cells": [
  {
   "cell_type": "markdown",
   "metadata": {},
   "source": [
    "### Probability and statistics"
   ]
  },
  {
   "cell_type": "code",
   "execution_count": 227,
   "metadata": {},
   "outputs": [],
   "source": [
    "%matplotlib inline\n",
    "import random\n",
    "import torch\n",
    "from torch.distributions.multinomial import Multinomial\n"
   ]
  },
  {
   "cell_type": "markdown",
   "metadata": {},
   "source": [
    "### Example - coin tossing"
   ]
  },
  {
   "cell_type": "code",
   "execution_count": 228,
   "metadata": {},
   "outputs": [
    {
     "name": "stdout",
     "output_type": "stream",
     "text": [
      "heads, tails: [48, 52]\n"
     ]
    }
   ],
   "source": [
    "# preparing samples - by simple python code\n",
    "number_of_tosses = 100\n",
    "heads = sum([random.random() > 0.5 for _ in range(number_of_tosses)])\n",
    "tails = number_of_tosses - heads\n",
    "print(f\"heads, tails: {[heads, tails]}\")"
   ]
  },
  {
   "cell_type": "code",
   "execution_count": 229,
   "metadata": {},
   "outputs": [
    {
     "data": {
      "text/plain": [
       "tensor([51., 49.])"
      ]
     },
     "execution_count": 229,
     "metadata": {},
     "output_type": "execute_result"
    }
   ],
   "source": [
    "# preparing smaples - by Multinominal object\n",
    "fair_probability = torch.tensor([0.5, 0.5]) # index[0] - heads, index[1] - tails; we are setting a probability of results of coin tossing\n",
    "Multinomial(100, fair_probability).sample() # calculate ocurance for 100 samples"
   ]
  },
  {
   "cell_type": "code",
   "execution_count": 230,
   "metadata": {},
   "outputs": [
    {
     "data": {
      "text/plain": [
       "tensor([0.5500, 0.4500])"
      ]
     },
     "execution_count": 230,
     "metadata": {},
     "output_type": "execute_result"
    }
   ],
   "source": [
    "Multinomial(100, fair_probability).sample() / 100 # dividing by the number of tosses gives us the frequency of each outcome in our data"
   ]
  },
  {
   "cell_type": "code",
   "execution_count": 231,
   "metadata": {},
   "outputs": [
    {
     "data": {
      "text/plain": [
       "tensor([0.4997, 0.5003])"
      ]
     },
     "execution_count": 231,
     "metadata": {},
     "output_type": "execute_result"
    }
   ],
   "source": [
    "# the bigger the number of samples, the more accurate the results are (in case of coin tossing, more thowards our initial probability)\n",
    "Multinomial(10000, fair_probability).sample() / 10000 # dividing by the number of tosses gives us the frequency of each outcome in our data\n"
   ]
  },
  {
   "cell_type": "code",
   "execution_count": 232,
   "metadata": {},
   "outputs": [
    {
     "data": {
      "text/plain": [
       "tensor([[0., 1.],\n",
       "        [0., 1.],\n",
       "        [1., 0.],\n",
       "        ...,\n",
       "        [0., 1.],\n",
       "        [0., 1.],\n",
       "        [0., 1.]])"
      ]
     },
     "execution_count": 232,
     "metadata": {},
     "output_type": "execute_result"
    }
   ],
   "source": [
    "# with notation below we are defining what can occure, eather heads or tails so the range is 0 -> 1 : Multinomial(1,\n",
    "# then probability of this occurance : Multinomial(1, fair_probability)\n",
    "# and then how many samples we want to get : Multinomial(1, fair_probability).sample((10000,))\n",
    "counts = Multinomial(1, fair_probability).sample((10000,))\n",
    "counts\n"
   ]
  },
  {
   "cell_type": "code",
   "execution_count": 233,
   "metadata": {},
   "outputs": [
    {
     "data": {
      "text/plain": [
       "tensor([[0., 0., 0., 0., 1., 0.],\n",
       "        [0., 0., 0., 0., 0., 1.],\n",
       "        [0., 0., 0., 0., 0., 1.],\n",
       "        ...,\n",
       "        [0., 1., 0., 0., 0., 0.],\n",
       "        [0., 0., 0., 0., 1., 0.],\n",
       "        [0., 1., 0., 0., 0., 0.]])"
      ]
     },
     "execution_count": 233,
     "metadata": {},
     "output_type": "execute_result"
    }
   ],
   "source": [
    "# for 6-sided dice it would be\n",
    "Multinomial(1, torch.tensor([1/6 for _ in range(6) ])).sample((10000,))\n",
    "# Multinomial(1, : we expect one side to be visible and rest to be hidden, so 0 for False and 1 for True\n",
    "# torch.tensor([1/6 for _ in range(6) ]) : we expect that the probabily for occurance of each side is equal, and we have 6 sides\n",
    "# .sample((10000,)) : number of samples"
   ]
  },
  {
   "cell_type": "code",
   "execution_count": 234,
   "metadata": {},
   "outputs": [
    {
     "data": {
      "text/plain": [
       "(tensor([[1.0000e+00, 0.0000e+00],\n",
       "         [2.0000e+00, 0.0000e+00],\n",
       "         [2.0000e+00, 1.0000e+00],\n",
       "         ...,\n",
       "         [5.0770e+03, 4.9210e+03],\n",
       "         [5.0780e+03, 4.9210e+03],\n",
       "         [5.0790e+03, 4.9210e+03]]),\n",
       " array([[1.        , 0.        ],\n",
       "        [1.        , 0.        ],\n",
       "        [0.6666667 , 0.33333334],\n",
       "        ...,\n",
       "        [0.50780153, 0.49219844],\n",
       "        [0.50785077, 0.4921492 ],\n",
       "        [0.5079    , 0.4921    ]], dtype=float32))"
      ]
     },
     "execution_count": 234,
     "metadata": {},
     "output_type": "execute_result"
    },
    {
     "data": {
      "image/png": "[encoded data removed]",
      "text/plain": [
       "<Figure size 640x480 with 1 Axes>"
      ]
     },
     "metadata": {},
     "output_type": "display_data"
    }
   ],
   "source": [
    "counts = Multinomial(1, fair_probability).sample((10000,))\n",
    "cum_sum = counts.cumsum(dim=0)\n",
    "estimates = cum_sum / cum_sum.sum(dim=1, keepdim=True)\n",
    "estimates = estimates.numpy()\n",
    "\n",
    "from matplotlib import pyplot\n",
    "\n",
    "graph = pyplot.gca()\n",
    "graph.plot(estimates)\n",
    "graph.legend([\"heads\", \"tails\"])\n",
    "graph.axhline(y=0.5, color=\"black\", linestyle=\"dashed\")\n",
    "cum_sum, estimates"
   ]
  }
 ],
 "metadata": {
  "kernelspec": {
   "display_name": "Python 3",
   "language": "python",
   "name": "python3"
  },
  "language_info": {
   "codemirror_mode": {
    "name": "ipython",
    "version": 3
   },
   "file_extension": ".py",
   "mimetype": "text/x-python",
   "name": "python",
   "nbconvert_exporter": "python",
   "pygments_lexer": "ipython3",
   "version": "3.12.2"
  }
 },
 "nbformat": 4,
 "nbformat_minor": 2
}
