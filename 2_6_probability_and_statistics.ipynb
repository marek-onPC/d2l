{
 "cells": [
  {
   "cell_type": "markdown",
   "metadata": {},
   "source": [
    "### Probability and statistics"
   ]
  },
  {
   "cell_type": "code",
   "execution_count": 154,
   "metadata": {},
   "outputs": [],
   "source": [
    "%matplotlib inline\n",
    "import random\n",
    "import torch\n",
    "from torch.distributions.multinomial import Multinomial\n"
   ]
  },
  {
   "cell_type": "markdown",
   "metadata": {},
   "source": [
    "### Example - coin tossing"
   ]
  },
  {
   "cell_type": "code",
   "execution_count": 155,
   "metadata": {},
   "outputs": [
    {
     "name": "stdout",
     "output_type": "stream",
     "text": [
      "heads, tails: [52, 48]\n"
     ]
    }
   ],
   "source": [
    "# preparing samples - by simple python code\n",
    "number_of_tosses = 100\n",
    "heads = sum([random.random() > 0.5 for _ in range(number_of_tosses)])\n",
    "tails = number_of_tosses - heads\n",
    "print(f\"heads, tails: {[heads, tails]}\")"
   ]
  },
  {
   "cell_type": "code",
   "execution_count": 165,
   "metadata": {},
   "outputs": [
    {
     "data": {
      "text/plain": [
       "tensor([54., 46.])"
      ]
     },
     "execution_count": 165,
     "metadata": {},
     "output_type": "execute_result"
    }
   ],
   "source": [
    "# preparing smaples - by Multinominal object\n",
    "fair_probability = torch.tensor([0.5, 0.5]) # index[0] - heads, index[1] - tails; we are setting a probability of results of coin tossing\n",
    "Multinomial(100, fair_probability).sample() # calculate ocurance for 100 samples"
   ]
  },
  {
   "cell_type": "code",
   "execution_count": 157,
   "metadata": {},
   "outputs": [
    {
     "data": {
      "text/plain": [
       "tensor([0.5300, 0.4700])"
      ]
     },
     "execution_count": 157,
     "metadata": {},
     "output_type": "execute_result"
    }
   ],
   "source": [
    "Multinomial(100, fair_probability).sample() / 100 # dividing by the number of tosses gives us the frequency of each outcome in our data"
   ]
  },
  {
   "cell_type": "code",
   "execution_count": 158,
   "metadata": {},
   "outputs": [
    {
     "data": {
      "text/plain": [
       "tensor([0.5055, 0.4945])"
      ]
     },
     "execution_count": 158,
     "metadata": {},
     "output_type": "execute_result"
    }
   ],
   "source": [
    "# the bigger the number of samples, the more accurate the results are (in case of coin tossing, more thowards our initial probability)\n",
    "Multinomial(10000, fair_probability).sample() / 10000 # dividing by the number of tosses gives us the frequency of each outcome in our data\n"
   ]
  },
  {
   "cell_type": "code",
   "execution_count": 163,
   "metadata": {},
   "outputs": [
    {
     "data": {
      "text/plain": [
       "(tensor([[0.0000e+00, 1.0000e+00],\n",
       "         [1.0000e+00, 1.0000e+00],\n",
       "         [2.0000e+00, 1.0000e+00],\n",
       "         ...,\n",
       "         [5.0110e+03, 4.9870e+03],\n",
       "         [5.0120e+03, 4.9870e+03],\n",
       "         [5.0130e+03, 4.9870e+03]]),\n",
       " array([[0.        , 1.        ],\n",
       "        [0.5       , 0.5       ],\n",
       "        [0.6666667 , 0.33333334],\n",
       "        ...,\n",
       "        [0.50120026, 0.49879977],\n",
       "        [0.50125015, 0.49874988],\n",
       "        [0.5013    , 0.4987    ]], dtype=float32))"
      ]
     },
     "execution_count": 163,
     "metadata": {},
     "output_type": "execute_result"
    },
    {
     "data": {
      "image/png": "[encoded data removed]",
      "text/plain": [
       "<Figure size 640x480 with 1 Axes>"
      ]
     },
     "metadata": {},
     "output_type": "display_data"
    }
   ],
   "source": [
    "counts = Multinomial(1, fair_probability).sample((10000,))\n",
    "cum_sum = counts.cumsum(dim=0)\n",
    "estimates = cum_sum / cum_sum.sum(dim=1, keepdim=True)\n",
    "estimates = estimates.numpy()\n",
    "\n",
    "from matplotlib import pyplot\n",
    "\n",
    "graph = pyplot.gca()\n",
    "graph.plot(estimates)\n",
    "graph.legend([\"heads\", \"tails\"])\n",
    "graph.axhline(y=0.5, color=\"black\", linestyle=\"dashed\")\n",
    "cum_sum, estimates"
   ]
  }
 ],
 "metadata": {
  "kernelspec": {
   "display_name": "Python 3",
   "language": "python",
   "name": "python3"
  },
  "language_info": {
   "codemirror_mode": {
    "name": "ipython",
    "version": 3
   },
   "file_extension": ".py",
   "mimetype": "text/x-python",
   "name": "python",
   "nbconvert_exporter": "python",
   "pygments_lexer": "ipython3",
   "version": "3.12.2"
  }
 },
 "nbformat": 4,
 "nbformat_minor": 2
}
