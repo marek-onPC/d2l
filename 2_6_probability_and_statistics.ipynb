{
 "cells": [
  {
   "cell_type": "markdown",
   "metadata": {},
   "source": [
    "### Probability and statistics"
   ]
  },
  {
   "cell_type": "code",
   "execution_count": 91,
   "metadata": {},
   "outputs": [],
   "source": [
    "%matplotlib inline\n",
    "import random\n",
    "import torch\n",
    "from torch.distributions.multinomial import Multinomial\n"
   ]
  },
  {
   "cell_type": "markdown",
   "metadata": {},
   "source": [
    "### Example - coin tossing"
   ]
  },
  {
   "cell_type": "code",
   "execution_count": 92,
   "metadata": {},
   "outputs": [
    {
     "name": "stdout",
     "output_type": "stream",
     "text": [
      "heads, tails: [56, 44]\n"
     ]
    }
   ],
   "source": [
    "# preparing samples - by simple python code\n",
    "number_of_tosses = 100\n",
    "heads = sum([random.random() > 0.5 for _ in range(number_of_tosses)])\n",
    "tails = number_of_tosses - heads\n",
    "print(f\"heads, tails: {[heads, tails]}\")"
   ]
  },
  {
   "cell_type": "code",
   "execution_count": 93,
   "metadata": {},
   "outputs": [
    {
     "data": {
      "text/plain": [
       "tensor([50., 50.])"
      ]
     },
     "execution_count": 93,
     "metadata": {},
     "output_type": "execute_result"
    }
   ],
   "source": [
    "# preparing smaples - by Multinominal object\n",
    "fair_probability = torch.tensor([0.5, 0.5]) # index[0] - heads, index[1] - tails; we are setting a probability of results of coin tossing\n",
    "Multinomial(100, fair_probability).sample() # calculate ocurance for 100 samples"
   ]
  },
  {
   "cell_type": "code",
   "execution_count": 94,
   "metadata": {},
   "outputs": [
    {
     "data": {
      "text/plain": [
       "tensor([0.5800, 0.4200])"
      ]
     },
     "execution_count": 94,
     "metadata": {},
     "output_type": "execute_result"
    }
   ],
   "source": [
    "Multinomial(100, fair_probability).sample() / 100 # dividing by the number of tosses gives us the frequency of each outcome in our data"
   ]
  },
  {
   "cell_type": "code",
   "execution_count": 95,
   "metadata": {},
   "outputs": [
    {
     "data": {
      "text/plain": [
       "tensor([0.5002, 0.4998])"
      ]
     },
     "execution_count": 95,
     "metadata": {},
     "output_type": "execute_result"
    }
   ],
   "source": [
    "# the bigger the number of samples, the more accurate the results are (in case of coin tossing, more thowards our initial probability)\n",
    "Multinomial(10000, fair_probability).sample() / 10000 # dividing by the number of tosses gives us the frequency of each outcome in our data\n"
   ]
  },
  {
   "cell_type": "code",
   "execution_count": 96,
   "metadata": {},
   "outputs": [
    {
     "data": {
      "text/plain": [
       "tensor([[0., 1.],\n",
       "        [1., 0.],\n",
       "        [1., 0.],\n",
       "        ...,\n",
       "        [1., 0.],\n",
       "        [1., 0.],\n",
       "        [1., 0.]])"
      ]
     },
     "execution_count": 96,
     "metadata": {},
     "output_type": "execute_result"
    }
   ],
   "source": [
    "# with notation below we are defining what can occure, eather heads or tails so the range is 0 -> 1 : Multinomial(1,\n",
    "# then probability of this occurance : Multinomial(1, fair_probability)\n",
    "# and then how many samples we want to get : Multinomial(1, fair_probability).sample((10000,))\n",
    "counts = Multinomial(1, fair_probability).sample((10000,))\n",
    "counts\n"
   ]
  },
  {
   "cell_type": "code",
   "execution_count": 97,
   "metadata": {},
   "outputs": [
    {
     "data": {
      "text/plain": [
       "tensor([[0., 0., 0., 1., 0., 0.],\n",
       "        [0., 0., 0., 0., 0., 1.],\n",
       "        [0., 0., 1., 0., 0., 0.],\n",
       "        ...,\n",
       "        [0., 0., 0., 0., 0., 1.],\n",
       "        [0., 0., 0., 0., 1., 0.],\n",
       "        [0., 1., 0., 0., 0., 0.]])"
      ]
     },
     "execution_count": 97,
     "metadata": {},
     "output_type": "execute_result"
    }
   ],
   "source": [
    "# for 6-sided dice it would be\n",
    "Multinomial(1, torch.tensor([1/6 for _ in range(6) ])).sample((10000,))\n",
    "# Multinomial(1, : we expect one side to be visible and rest to be hidden, so 0 for False and 1 for True\n",
    "# torch.tensor([1/6 for _ in range(6) ]) : we expect that the probabily for occurance of each side is equal, and we have 6 sides\n",
    "# .sample((10000,)) : number of samples"
   ]
  },
  {
   "cell_type": "code",
   "execution_count": 98,
   "metadata": {},
   "outputs": [
    {
     "data": {
      "text/plain": [
       "(tensor([[0.0000e+00, 1.0000e+00],\n",
       "         [1.0000e+00, 1.0000e+00],\n",
       "         [2.0000e+00, 1.0000e+00],\n",
       "         ...,\n",
       "         [5.0260e+03, 4.9720e+03],\n",
       "         [5.0270e+03, 4.9720e+03],\n",
       "         [5.0280e+03, 4.9720e+03]]),\n",
       " tensor([[1.0000e+00],\n",
       "         [2.0000e+00],\n",
       "         [3.0000e+00],\n",
       "         ...,\n",
       "         [9.9980e+03],\n",
       "         [9.9990e+03],\n",
       "         [1.0000e+04]]),\n",
       " array([[0.        , 1.        ],\n",
       "        [0.5       , 0.5       ],\n",
       "        [0.6666667 , 0.33333334],\n",
       "        ...,\n",
       "        [0.50270057, 0.49729946],\n",
       "        [0.5027503 , 0.49724972],\n",
       "        [0.5028    , 0.4972    ]], dtype=float32))"
      ]
     },
     "execution_count": 98,
     "metadata": {},
     "output_type": "execute_result"
    }
   ],
   "source": [
    "cumulative_sum = counts.cumsum(dim=0) # Returns the cumulative sum of elements of input in the dimension dim.\n",
    "estimates = cumulative_sum / cumulative_sum.sum(dim=1, keepdim=True) # Use keepdim=Ture to match the size of tensor b (cumulative_sum)\n",
    "estimates = estimates.numpy() # Covert tensor to array that will be consumed by pyplot\n",
    "\n",
    "cumulative_sum, cumulative_sum.sum(dim=1, keepdim=True), estimates"
   ]
  },
  {
   "cell_type": "code",
   "execution_count": 99,
   "metadata": {},
   "outputs": [
    {
     "data": {
      "text/plain": [
       "<matplotlib.lines.Line2D at 0x1b378b41310>"
      ]
     },
     "execution_count": 99,
     "metadata": {},
     "output_type": "execute_result"
    },
    {
     "data": {
      "image/png": "[encoded data removed]",
      "text/plain": [
       "<Figure size 640x480 with 1 Axes>"
      ]
     },
     "metadata": {},
     "output_type": "display_data"
    }
   ],
   "source": [
    "from matplotlib import pyplot\n",
    "\n",
    "graph = pyplot.gca()\n",
    "graph.plot(estimates)\n",
    "graph.legend([\"heads\", \"tails\"])\n",
    "graph.axhline(y=0.5, color=\"black\", linestyle=\"dashed\")"
   ]
  }
 ],
 "metadata": {
  "kernelspec": {
   "display_name": "Python 3",
   "language": "python",
   "name": "python3"
  },
  "language_info": {
   "codemirror_mode": {
    "name": "ipython",
    "version": 3
   },
   "file_extension": ".py",
   "mimetype": "text/x-python",
   "name": "python",
   "nbconvert_exporter": "python",
   "pygments_lexer": "ipython3",
   "version": "3.12.2"
  }
 },
 "nbformat": 4,
 "nbformat_minor": 2
}
