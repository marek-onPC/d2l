{
 "cells": [
  {
   "cell_type": "markdown",
   "metadata": {},
   "source": [
    "### Reading the Dataset"
   ]
  },
  {
   "cell_type": "code",
   "execution_count": 9,
   "metadata": {},
   "outputs": [],
   "source": [
    "import os\n",
    "\n",
    "os.makedirs(\"data\", exist_ok=True)\n",
    "data_file = \"data/house_tiny.csv\"\n",
    "\n",
    "with open(data_file, \"w\") as f:\n",
    "    f.write('''\n",
    "        NumRooms,RoofType,Price\n",
    "        NA,NA,127500\n",
    "        2,NA,106000\n",
    "        4,Slate,178100\n",
    "        NA,NA,140000\n",
    "    ''')"
   ]
  },
  {
   "cell_type": "code",
   "execution_count": 10,
   "metadata": {},
   "outputs": [
    {
     "name": "stdout",
     "output_type": "stream",
     "text": [
      "          NumRooms RoofType   Price\n",
      "0               NA      NaN  127500\n",
      "1                2      NaN  106000\n",
      "2                4    Slate  178100\n",
      "3               NA      NaN  140000\n"
     ]
    }
   ],
   "source": [
    "import pandas\n",
    "\n",
    "data = pandas.read_csv(data_file)\n",
    "print(data)"
   ]
  }
 ],
 "metadata": {
  "kernelspec": {
   "display_name": "Python 3",
   "language": "python",
   "name": "python3"
  },
  "language_info": {
   "codemirror_mode": {
    "name": "ipython",
    "version": 3
   },
   "file_extension": ".py",
   "mimetype": "text/x-python",
   "name": "python",
   "nbconvert_exporter": "python",
   "pygments_lexer": "ipython3",
   "version": "3.12.2"
  }
 },
 "nbformat": 4,
 "nbformat_minor": 2
}
