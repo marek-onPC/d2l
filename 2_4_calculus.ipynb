{
 "cells": [
  {
   "cell_type": "markdown",
   "metadata": {},
   "source": [
    "### Calculus"
   ]
  },
  {
   "cell_type": "code",
   "execution_count": 1,
   "metadata": {},
   "outputs": [],
   "source": [
    "import numpy as np\n",
    "import torch\n",
    "from matplotlib_inline import backend_inline"
   ]
  },
  {
   "attachments": {
    "image-2.png": {
     "image/png": "[encoded data removed]"
    },
    "image.png": {
     "image/png": "[encoded data removed]"
    }
   },
   "cell_type": "markdown",
   "metadata": {},
   "source": [
    "### Derivatives and Differentiation\n",
    "\n",
    "##### Derivatives (pochodna funkcji)\n",
    "\n",
    "Put simply, a derivative (pochodna funkcji) is the rate of change in a function with respect to changes in its arguments. Derivatives can tell us how rapidly a loss function would increase or decrease were we to increase or decrease each parameter by an infinitesimally small amount.\n",
    "\n",
    "The **derivative** of f at a point x is defined as\n",
    "\n",
    "![image-2.png](attachment:image-2.png)\n",
    "\n",
    "We can interpret the derivative f'(x) as the instantaneous rate of change of f(x) with respect to x.\n",
    "\n",
    "Example with ![image.png](attachment:image.png)"
   ]
  },
  {
   "cell_type": "code",
   "execution_count": 21,
   "metadata": {},
   "outputs": [
    {
     "name": "stdout",
     "output_type": "stream",
     "text": [
      "[1.e-01 1.e-02 1.e-03 1.e-04 1.e-05]\n",
      "\n",
      "\n",
      "h=0.1, numerical_limit=2.3000000000000043\n",
      "h=0.01, numerical_limit=2.0299999999999763\n",
      "h=0.001, numerical_limit=2.002999999999311\n",
      "h=0.0001, numerical_limit=2.0002999999979565\n",
      "h=1e-05, numerical_limit=2.0000300000155846\n"
     ]
    }
   ],
   "source": [
    "# Example\n",
    "\n",
    "def f(x):\n",
    "    return 3*x**2 - 4*x\n",
    "\n",
    "# arange array with (start_val, stop_val, step_val)\n",
    "# exponentiation of 10 to arranged array\n",
    "print(10.0**np.arange(-1, -6, -1))\n",
    "print (\"\\n\")\n",
    "\n",
    "for h in 10.0**np.arange(-1, -6, -1):\n",
    "    # for x=1\n",
    "    lim=( f(1 + h) - f(1) ) / h\n",
    "    print(f\"h={h}, numerical_limit={lim}\")"
   ]
  },
  {
   "cell_type": "markdown",
   "metadata": {},
   "source": [
    "For x = 1, derivative f'(x) apporaches 2 as h apporaches 0"
   ]
  },
  {
   "cell_type": "markdown",
   "metadata": {},
   "source": [
    "##### Differentiation\n",
    "\n",
    "...\n"
   ]
  }
 ],
 "metadata": {
  "kernelspec": {
   "display_name": "Python 3",
   "language": "python",
   "name": "python3"
  },
  "language_info": {
   "codemirror_mode": {
    "name": "ipython",
    "version": 3
   },
   "file_extension": ".py",
   "mimetype": "text/x-python",
   "name": "python",
   "nbconvert_exporter": "python",
   "pygments_lexer": "ipython3",
   "version": "3.12.2"
  }
 },
 "nbformat": 4,
 "nbformat_minor": 2
}
