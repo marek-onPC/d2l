{
 "cells": [
  {
   "cell_type": "code",
   "execution_count": 610,
   "metadata": {},
   "outputs": [],
   "source": [
    "import torch"
   ]
  },
  {
   "cell_type": "markdown",
   "metadata": {},
   "source": [
    "### Automatic Differentiation\n",
    "\n",
    "Calculating derivatives is the crucial step in all the optimization algorithms that we will use to train deep networks. Modern deep learning frameworks take this work off our plates by offering automatic differentiation (often shortened to autograd).\n",
    "\n",
    "### Exmplanation based on a simple function\n",
    "\n",
    "**y = 2x<sup>T</sup>x**, where **x** is an vector"
   ]
  },
  {
   "cell_type": "code",
   "execution_count": 611,
   "metadata": {},
   "outputs": [
    {
     "data": {
      "text/plain": [
       "tensor([0., 1., 2., 3.])"
      ]
     },
     "execution_count": 611,
     "metadata": {},
     "output_type": "execute_result"
    }
   ],
   "source": [
    "x = torch.arange(4.0)\n",
    "x"
   ]
  },
  {
   "cell_type": "markdown",
   "metadata": {},
   "source": [
    "Before gradien calculation, we need a place to store it. Because of the calculation complexity in real-life scenarios and how much data needs to be processed and stored - memory management is crucial to not run out of it.\n",
    "For this, gradiend with the respect to vector **x**  we can store **in that vector**. "
   ]
  },
  {
   "cell_type": "code",
   "execution_count": 612,
   "metadata": {},
   "outputs": [
    {
     "name": "stdout",
     "output_type": "stream",
     "text": [
      "None\n"
     ]
    }
   ],
   "source": [
    "x.requires_grad_(True)\n",
    "# We can also define this when creating a tensor by x = torch.arange(4.0, requires_grad=True)\n",
    "\n",
    "# Gradient for now is None by default\n",
    "print(x.grad)"
   ]
  },
  {
   "cell_type": "code",
   "execution_count": 613,
   "metadata": {},
   "outputs": [
    {
     "data": {
      "text/plain": [
       "tensor(28., grad_fn=<MulBackward0>)"
      ]
     },
     "execution_count": 613,
     "metadata": {},
     "output_type": "execute_result"
    }
   ],
   "source": [
    "# You can also use \"matmul\" but the executed algoright vary on the input, while using \"dot\" you specify wich exactly algorimth you want to use\n",
    "# dot product = scalar product (pl. iloczyn skalarny)\n",
    "y = 2 * torch.dot(x, x)\n",
    "y"
   ]
  },
  {
   "cell_type": "code",
   "execution_count": 614,
   "metadata": {},
   "outputs": [
    {
     "data": {
      "text/plain": [
       "tensor([ 0.,  4.,  8., 12.])"
      ]
     },
     "execution_count": 614,
     "metadata": {},
     "output_type": "execute_result"
    }
   ],
   "source": [
    "x.grad # Still None\n",
    "y.backward() # Take the gradient of y with respect to x by calling its backward method - \"x\" gradient will be now filled\n",
    "x.grad"
   ]
  },
  {
   "cell_type": "code",
   "execution_count": 615,
   "metadata": {},
   "outputs": [
    {
     "data": {
      "text/plain": [
       "tensor([True, True, True, True])"
      ]
     },
     "execution_count": 615,
     "metadata": {},
     "output_type": "execute_result"
    }
   ],
   "source": [
    "# Gradient function with respect to the **x** should be:\n",
    "\n",
    "# y' = 2 * (x * x)\n",
    "# (x * x) is essentially (x ** 2)\n",
    "# y' = 2 * (x ** 2)\n",
    "# y' = 4 * x\n",
    "\n",
    "x.grad == 4 * x"
   ]
  },
  {
   "cell_type": "code",
   "execution_count": 616,
   "metadata": {},
   "outputs": [
    {
     "data": {
      "text/plain": [
       "tensor(6., grad_fn=<SumBackward0>)"
      ]
     },
     "execution_count": 616,
     "metadata": {},
     "output_type": "execute_result"
    }
   ],
   "source": [
    "y = x.sum()\n",
    "y.backward()\n",
    "y"
   ]
  },
  {
   "cell_type": "code",
   "execution_count": 617,
   "metadata": {},
   "outputs": [
    {
     "data": {
      "text/plain": [
       "tensor([ 1.,  5.,  9., 13.])"
      ]
     },
     "execution_count": 617,
     "metadata": {},
     "output_type": "execute_result"
    }
   ],
   "source": [
    "x.grad \n",
    "# Result - tensor([ 1.,  5.,  9., 13.])\n",
    "# Because PyTorch does NOT automatically resey the gradient buffer.\n",
    "# Instead, the new gradient is added to the already-stored gradient. \n",
    "# This behavior comes in handy when we want to optimize the sum of multiple objective functions."
   ]
  },
  {
   "cell_type": "code",
   "execution_count": 618,
   "metadata": {},
   "outputs": [
    {
     "name": "stdout",
     "output_type": "stream",
     "text": [
      "x: tensor([0., 1., 2., 3.], requires_grad=True)\n",
      "y: 6.0\n",
      "x.grad: tensor([1., 1., 1., 1.])\n"
     ]
    }
   ],
   "source": [
    "# In order to reset the gradient use \"grad.zero_()\"\n",
    "x.grad.zero_()\n",
    "y = x.sum()\n",
    "y.backward()\n",
    "\n",
    "print(f\"x: {x}\")\n",
    "print(f\"y: {y}\")\n",
    "print(f\"x.grad: {x.grad}\")"
   ]
  },
  {
   "cell_type": "markdown",
   "metadata": {},
   "source": [
    "### Backward for Non-Scalar Variables"
   ]
  },
  {
   "cell_type": "code",
   "execution_count": 619,
   "metadata": {},
   "outputs": [
    {
     "name": "stdout",
     "output_type": "stream",
     "text": [
      "x: tensor([0., 1., 2., 3.], requires_grad=True)\n",
      "y: tensor([0., 1., 4., 9.], grad_fn=<MulBackward0>)\n",
      "x.grad: tensor([0., 2., 4., 6.])\n"
     ]
    }
   ],
   "source": [
    "x.grad.zero_()\n",
    "y = x * x\n",
    "# Just running \"y.backward()\" will result in Error - RuntimeError: grad can be implicitly created only for scalar outputs (for operations that result is a scalar)\n",
    "# By providing gradient you are providing what backward() should compute agains and how gradient resoult should be presented, so \"v * dx * y\", instead of \"dx * y\" by default\n",
    "\n",
    "y.backward(gradient=torch.ones(len(y))) # Faster: y.sum().backward()\n",
    "\n",
    "print(f\"x: {x}\")\n",
    "print(f\"y: {y}\")\n",
    "print(f\"x.grad: {x.grad}\")"
   ]
  },
  {
   "cell_type": "markdown",
   "metadata": {},
   "source": [
    "### Detaching Computation\n",
    "\n",
    "In order to move some calculations outside of the recorded computational graph - so the calculation will not be included in the grandient, we need to detach the respective computational graph from the final result.\n",
    "\n",
    "Suppose we have **z = x * y** and **y = x * x** but we want to focus on the direct influence of **x** on **z** rather than the influence conveyed via **y**.\n",
    "\n",
    "So we want **x affects z**, NOT **x affects y affects z**."
   ]
  },
  {
   "cell_type": "code",
   "execution_count": 620,
   "metadata": {},
   "outputs": [
    {
     "name": "stdout",
     "output_type": "stream",
     "text": [
      "x: tensor([0., 1., 2., 3.], requires_grad=True)\n",
      "y: tensor([0., 1., 4., 9.], grad_fn=<MulBackward0>)\n",
      "z: tensor([ 0.,  1.,  8., 27.], grad_fn=<MulBackward0>)\n",
      "x.grad: tensor([0., 1., 4., 9.])\n"
     ]
    },
    {
     "data": {
      "text/plain": [
       "tensor([True, True, True, True])"
      ]
     },
     "execution_count": 620,
     "metadata": {},
     "output_type": "execute_result"
    }
   ],
   "source": [
    "x.grad.zero_()\n",
    "\n",
    "y = x * x\n",
    "u = y.detach()\n",
    "# Create a new variable u that takes the same value as y but whose provenance (how it was created) has been wiped out. \n",
    "# Thus u has no ancestors in the graph and gradients do not flow through u to x\n",
    "\n",
    "z = u * x\n",
    "z.sum().backward()\n",
    "\n",
    "print(f\"x: {x}\")\n",
    "print(f\"y: {y}\")\n",
    "print(f\"z: {z}\")\n",
    "print(f\"x.grad: {x.grad}\")\n",
    "x.grad == u"
   ]
  },
  {
   "cell_type": "code",
   "execution_count": 621,
   "metadata": {},
   "outputs": [
    {
     "name": "stdout",
     "output_type": "stream",
     "text": [
      "x: tensor([0., 1., 2., 3.], requires_grad=True)\n",
      "y: tensor([0., 1., 4., 9.], grad_fn=<MulBackward0>)\n"
     ]
    },
    {
     "data": {
      "text/plain": [
       "(tensor([0., 2., 4., 6.]), tensor([True, True, True, True]))"
      ]
     },
     "execution_count": 621,
     "metadata": {},
     "output_type": "execute_result"
    }
   ],
   "source": [
    "# Procedure above detaches y’s ancestors from the graph leading to z,\n",
    "# the computational graph leading to y persists and thus we can calculate the gradient of y with respect to x.\n",
    "x.grad.zero_()\n",
    "y.sum().backward()\n",
    "\n",
    "print(f\"x: {x}\")\n",
    "print(f\"y: {y}\")\n",
    "x.grad, x.grad == 2 * x"
   ]
  },
  {
   "cell_type": "code",
   "execution_count": 622,
   "metadata": {},
   "outputs": [
    {
     "data": {
      "text/plain": [
       "(tensor([0., 1., 2., 3.], requires_grad=True),\n",
       " tensor([ 0.,  1.,  8., 27.], grad_fn=<MulBackward0>),\n",
       " tensor([ 0.,  3., 12., 27.]))"
      ]
     },
     "execution_count": 622,
     "metadata": {},
     "output_type": "execute_result"
    }
   ],
   "source": [
    "x.grad.zero_()\n",
    "o = x * x * x\n",
    "o.sum().backward()\n",
    "\n",
    "x, o, x.grad"
   ]
  },
  {
   "cell_type": "markdown",
   "metadata": {},
   "source": [
    "### Gradients and Python Control Flow"
   ]
  },
  {
   "cell_type": "code",
   "execution_count": 623,
   "metadata": {},
   "outputs": [
    {
     "data": {
      "text/plain": [
       "(tensor(-0.5568, requires_grad=True),\n",
       " tensor(-114028.8125, grad_fn=<MulBackward0>),\n",
       " tensor(204800.),\n",
       " tensor(True))"
      ]
     },
     "execution_count": 623,
     "metadata": {},
     "output_type": "execute_result"
    }
   ],
   "source": [
    "def f(a: torch.Tensor):\n",
    "    b = a * 2\n",
    "    while b.norm() < 1000:\n",
    "        b = b * 2\n",
    "    if b.sum() > 0:\n",
    "        c = b\n",
    "    else:\n",
    "        c = 100 * b\n",
    "    return c\n",
    "\n",
    "a = torch.randn(size=(), requires_grad=True)\n",
    "d = f(a)\n",
    "d.backward()\n",
    "\n",
    "a, d, a.grad, a.grad == d / a"
   ]
  },
  {
   "cell_type": "markdown",
   "metadata": {},
   "source": [
    "### Conclusion and exercises\n",
    "\n",
    "For now, try to remember these basics:\n",
    "1. attach gradients to those variables with respect to which we desire derivatives;\n",
    "2. record the computation of the target value;\n",
    "3. execute the backpropagation function;\n",
    "4. and access the resulting gradient."
   ]
  },
  {
   "cell_type": "code",
   "execution_count": 624,
   "metadata": {},
   "outputs": [
    {
     "data": {
      "text/plain": [
       "(tensor([0., 1., 2., 3.], requires_grad=True),\n",
       " tensor(28., grad_fn=<MulBackward0>),\n",
       " tensor([ 0.,  8., 16., 24.]))"
      ]
     },
     "execution_count": 624,
     "metadata": {},
     "output_type": "execute_result"
    }
   ],
   "source": [
    "# 2 - running backward() twice result in an error, BUT according to the error message,\n",
    "# you can use retain_graph=True if you need to backward through the graph a second time or if you need to access saved tensors after calling backward\n",
    "x = torch.arange(4.0, requires_grad=True)\n",
    "y = 2 * torch.dot(x, x)\n",
    "y.backward(retain_graph=True)\n",
    "y.backward()\n",
    "x, y, x.grad\n",
    "\n",
    "# Next backpropagation will be calculaten on top of the first result\n",
    "# First calculated grad is - tensor([ 0.,  4.,  8., 12.])\n",
    "# So the second will be calculatedo ntop of that, and result is - tensor([ 0.,  8., 16., 24.])\n"
   ]
  },
  {
   "cell_type": "code",
   "execution_count": 625,
   "metadata": {},
   "outputs": [
    {
     "data": {
      "text/plain": [
       "(tensor([0., 1., 2., 3.], requires_grad=True),\n",
       " tensor([   0.,  512., 1024., 1536.], grad_fn=<MulBackward0>),\n",
       " tensor([512., 512., 512., 512.]))"
      ]
     },
     "execution_count": 625,
     "metadata": {},
     "output_type": "execute_result"
    }
   ],
   "source": [
    "# 3\n",
    "def u(a: torch.Tensor):\n",
    "    b = a * 2\n",
    "    while b.norm() < 1000:\n",
    "        b = b * 2\n",
    "    if b.sum() > 0:\n",
    "        c = b\n",
    "    else:\n",
    "        c = 100 * b\n",
    "    return c\n",
    "\n",
    "a = torch.arange(4.0, requires_grad=True)\n",
    "d = f(a)\n",
    "d.sum().backward()\n",
    "\n",
    "a, d, a.grad"
   ]
  },
  {
   "cell_type": "markdown",
   "metadata": {},
   "source": [
    "##### Explanation of what is happening, plus easy-to-understand explanation of gradient by ChatGPT (3.5)\n",
    "\n",
    "\n",
    "**Me:**\n",
    "> a is [0., 1., 2., 3.]\n",
    "> d is [0.,  512., 1024., 1536.]\n",
    "> and gradient is [512., 512., 512., 512.]\n",
    ">\n",
    "> Why gradient for first element is 512 when in both a and d it is 0 so nothing is chaning?\n",
    "\n",
    "**ChatGPT:**\n",
    "> In PyTorch, when you call the `backward()` method on a tensor, it calculates the gradients of that tensor with respect to some scalar value. In your case, you're calling `backward()` on the sum of tensor `d`. This means PyTorch computes the gradient of the sum of `d` with respect to each element of `a`.\n",
    ">\n",
    "> Let's break it down:\n",
    ">\n",
    "> 1. You create tensor `a` with values `[0., 1., 2., 3.]` and `requires_grad=True`, meaning you want to compute gradients with respect to it.\n",
    "> 2. You compute tensor `d` using the function `f(a)`, which involves several operations including multiplication and a loop. The resulting tensor `d` is `[0., 512., 1024., 1536.]`.\n",
    "> 3. You call `d.sum().backward()`, which calculates gradients of the sum of `d` with respect to each element of `a`.\n",
    "> 4. Even though the first element of `a` is 0 and the corresponding element in `d` is also 0, the gradient of the sum of `d` with respect to that element of `a` is still computed. This is because PyTorch calculates the gradient of the sum of `d`, not just the individual elements of `d`.\n",
    "> 5. In this case, the gradient of the sum of `d` with respect to the first element of `a` turns out to be 512, because `d` is calculated based on operations involving `a` and derivatives of those operations.\n",
    ">\n",
    "> So, the gradient for the first element of `a` being 512 indicates how a small change in the first element of `a` affects the overall sum of `d`. It doesn't necessarily mean that the first element of `a` directly influences the first element of `d`. It's more about how changes in `a` affect the output of the entire function `f`.\n",
    "\n",
    "**Me:**\n",
    "> So the gradient is measuring the \"power\" of the change?\n",
    "\n",
    "**ChatGPT:**\n",
    "> Yes, you could think of it that way. The gradient represents the rate of change of the output (in this case, the sum of `d`) with respect to the input (the elements of `a`). \n",
    ">\n",
    "> When you compute gradients in PyTorch, you're essentially asking, \"If I change each element of the input tensor `a` by a small amount, how much will the output change?\" The gradient provides information about the sensitivity of the output to changes in the input.\n",
    ">\n",
    "> In your example, the fact that the gradient for the first element of `a` is 512 means that a small change in the first element of `a` results in a relatively large change in the overall sum of `d`, as compared to changes in the other elements of `a`. So, you could interpret this as indicating the \"power\" or influence of that particular element of `a` on the output of the function `f`."
   ]
  },
  {
   "cell_type": "code",
   "execution_count": 626,
   "metadata": {},
   "outputs": [
    {
     "data": {
      "text/plain": [
       "(tensor([-3.1416, -3.0781, -3.0147, -2.9512, -2.8877, -2.8243, -2.7608, -2.6973,\n",
       "         -2.6339, -2.5704, -2.5069, -2.4435, -2.3800, -2.3165, -2.2531, -2.1896,\n",
       "         -2.1261, -2.0627, -1.9992, -1.9357, -1.8723, -1.8088, -1.7453, -1.6819,\n",
       "         -1.6184, -1.5549, -1.4915, -1.4280, -1.3645, -1.3011, -1.2376, -1.1741,\n",
       "         -1.1107, -1.0472, -0.9837, -0.9203, -0.8568, -0.7933, -0.7299, -0.6664,\n",
       "         -0.6029, -0.5395, -0.4760, -0.4125, -0.3491, -0.2856, -0.2221, -0.1587,\n",
       "         -0.0952, -0.0317,  0.0317,  0.0952,  0.1587,  0.2221,  0.2856,  0.3491,\n",
       "          0.4125,  0.4760,  0.5395,  0.6029,  0.6664,  0.7299,  0.7933,  0.8568,\n",
       "          0.9203,  0.9837,  1.0472,  1.1107,  1.1741,  1.2376,  1.3011,  1.3645,\n",
       "          1.4280,  1.4915,  1.5549,  1.6184,  1.6819,  1.7453,  1.8088,  1.8723,\n",
       "          1.9357,  1.9992,  2.0627,  2.1261,  2.1896,  2.2531,  2.3165,  2.3800,\n",
       "          2.4435,  2.5069,  2.5704,  2.6339,  2.6973,  2.7608,  2.8243,  2.8877,\n",
       "          2.9512,  3.0147,  3.0781,  3.1416], dtype=torch.float64,\n",
       "        requires_grad=True),\n",
       " tensor([-1.2246e-16, -6.3424e-02, -1.2659e-01, -1.8925e-01, -2.5115e-01,\n",
       "         -3.1203e-01, -3.7166e-01, -4.2979e-01, -4.8620e-01, -5.4064e-01,\n",
       "         -5.9291e-01, -6.4279e-01, -6.9008e-01, -7.3459e-01, -7.7615e-01,\n",
       "         -8.1458e-01, -8.4973e-01, -8.8145e-01, -9.0963e-01, -9.3415e-01,\n",
       "         -9.5490e-01, -9.7181e-01, -9.8481e-01, -9.9384e-01, -9.9887e-01,\n",
       "         -9.9987e-01, -9.9685e-01, -9.8982e-01, -9.7880e-01, -9.6384e-01,\n",
       "         -9.4500e-01, -9.2235e-01, -8.9599e-01, -8.6603e-01, -8.3257e-01,\n",
       "         -7.9576e-01, -7.5575e-01, -7.1269e-01, -6.6677e-01, -6.1816e-01,\n",
       "         -5.6706e-01, -5.1368e-01, -4.5823e-01, -4.0093e-01, -3.4202e-01,\n",
       "         -2.8173e-01, -2.2031e-01, -1.5800e-01, -9.5056e-02, -3.1728e-02,\n",
       "          3.1728e-02,  9.5056e-02,  1.5800e-01,  2.2031e-01,  2.8173e-01,\n",
       "          3.4202e-01,  4.0093e-01,  4.5823e-01,  5.1368e-01,  5.6706e-01,\n",
       "          6.1816e-01,  6.6677e-01,  7.1269e-01,  7.5575e-01,  7.9576e-01,\n",
       "          8.3257e-01,  8.6603e-01,  8.9599e-01,  9.2235e-01,  9.4500e-01,\n",
       "          9.6384e-01,  9.7880e-01,  9.8982e-01,  9.9685e-01,  9.9987e-01,\n",
       "          9.9887e-01,  9.9384e-01,  9.8481e-01,  9.7181e-01,  9.5490e-01,\n",
       "          9.3415e-01,  9.0963e-01,  8.8145e-01,  8.4973e-01,  8.1458e-01,\n",
       "          7.7615e-01,  7.3459e-01,  6.9008e-01,  6.4279e-01,  5.9291e-01,\n",
       "          5.4064e-01,  4.8620e-01,  4.2979e-01,  3.7166e-01,  3.1203e-01,\n",
       "          2.5115e-01,  1.8925e-01,  1.2659e-01,  6.3424e-02,  1.2246e-16],\n",
       "        dtype=torch.float64, grad_fn=<SinBackward0>),\n",
       " tensor([-1.0000, -0.9980, -0.9920, -0.9819, -0.9679, -0.9501, -0.9284, -0.9029,\n",
       "         -0.8738, -0.8413, -0.8053, -0.7660, -0.7237, -0.6785, -0.6306, -0.5801,\n",
       "         -0.5272, -0.4723, -0.4154, -0.3569, -0.2969, -0.2358, -0.1736, -0.1108,\n",
       "         -0.0476,  0.0159,  0.0792,  0.1423,  0.2048,  0.2665,  0.3271,  0.3863,\n",
       "          0.4441,  0.5000,  0.5539,  0.6056,  0.6549,  0.7015,  0.7453,  0.7861,\n",
       "          0.8237,  0.8580,  0.8888,  0.9161,  0.9397,  0.9595,  0.9754,  0.9874,\n",
       "          0.9955,  0.9995,  0.9995,  0.9955,  0.9874,  0.9754,  0.9595,  0.9397,\n",
       "          0.9161,  0.8888,  0.8580,  0.8237,  0.7861,  0.7453,  0.7015,  0.6549,\n",
       "          0.6056,  0.5539,  0.5000,  0.4441,  0.3863,  0.3271,  0.2665,  0.2048,\n",
       "          0.1423,  0.0792,  0.0159, -0.0476, -0.1108, -0.1736, -0.2358, -0.2969,\n",
       "         -0.3569, -0.4154, -0.4723, -0.5272, -0.5801, -0.6306, -0.6785, -0.7237,\n",
       "         -0.7660, -0.8053, -0.8413, -0.8738, -0.9029, -0.9284, -0.9501, -0.9679,\n",
       "         -0.9819, -0.9920, -0.9980, -1.0000], dtype=torch.float64),\n",
       " tensor([True, True, True, True, True, True, True, True, True, True, True, True,\n",
       "         True, True, True, True, True, True, True, True, True, True, True, True,\n",
       "         True, True, True, True, True, True, True, True, True, True, True, True,\n",
       "         True, True, True, True, True, True, True, True, True, True, True, True,\n",
       "         True, True, True, True, True, True, True, True, True, True, True, True,\n",
       "         True, True, True, True, True, True, True, True, True, True, True, True,\n",
       "         True, True, True, True, True, True, True, True, True, True, True, True,\n",
       "         True, True, True, True, True, True, True, True, True, True, True, True,\n",
       "         True, True, True, True]))"
      ]
     },
     "execution_count": 626,
     "metadata": {},
     "output_type": "execute_result"
    }
   ],
   "source": [
    "# 4\n",
    "import  numpy as np\n",
    "range = np.linspace(- np.pi, np.pi, 100)\n",
    "x = torch.tensor(range, requires_grad=True)\n",
    "y = x.sin()\n",
    "y.sum().backward()\n",
    "grad = x.grad\n",
    "x, y, grad, grad == x.cos()\n"
   ]
  },
  {
   "cell_type": "code",
   "execution_count": 627,
   "metadata": {},
   "outputs": [
    {
     "data": {
      "text/plain": [
       "<matplotlib.legend.Legend at 0x27606563a10>"
      ]
     },
     "execution_count": 627,
     "metadata": {},
     "output_type": "execute_result"
    },
    {
     "data": {
      "image/png": "[encoded data removed]",
      "text/plain": [
       "<Figure size 640x480 with 1 Axes>"
      ]
     },
     "metadata": {},
     "output_type": "display_data"
    }
   ],
   "source": [
    "from matplotlib import pyplot\n",
    "\n",
    "axes = pyplot.gca()\n",
    "axes.set_xlabel(\"x\"), axes.set_ylabel(\"y\")\n",
    "axes.grid()\n",
    "\n",
    "axes.plot(x.detach(), y.detach())\n",
    "axes.plot(x.detach(), grad, \"m--\")\n",
    "axes.legend([\"sin\", \"cos\"])"
   ]
  },
  {
   "cell_type": "code",
   "execution_count": 628,
   "metadata": {},
   "outputs": [
    {
     "data": {
      "text/plain": [
       "tensor([-2.3908e+00, -2.3084e+00, -2.2153e+00, -2.1119e+00, -1.9989e+00,\n",
       "        -1.8772e+00, -1.7475e+00, -1.6106e+00, -1.4675e+00, -1.3191e+00,\n",
       "        -1.1663e+00, -1.0102e+00, -8.5174e-01, -6.9212e-01, -5.3241e-01,\n",
       "        -3.7374e-01, -2.1728e-01, -6.4212e-02,  8.4244e-02,  2.2685e-01,\n",
       "         3.6235e-01,  4.8944e-01,  6.0680e-01,  7.1306e-01,  8.0678e-01,\n",
       "         8.8648e-01,  9.5056e-01,  9.9732e-01,  1.0249e+00,  1.0311e+00,\n",
       "         1.0137e+00,  9.6978e-01,  8.9600e-01,  7.8821e-01,  6.4116e-01,\n",
       "         4.4798e-01,  1.9950e-01, -1.1697e-01, -5.1948e-01, -1.0347e+00,\n",
       "        -1.7033e+00, -2.5908e+00, -3.8079e+00, -5.5546e+00, -8.2254e+00,\n",
       "        -1.2692e+01, -2.1218e+01, -4.1366e+01, -1.1302e+02, -9.9795e+02,\n",
       "        -9.9795e+02, -1.1302e+02, -4.1366e+01, -2.1218e+01, -1.2692e+01,\n",
       "        -8.2254e+00, -5.5546e+00, -3.8079e+00, -2.5908e+00, -1.7033e+00,\n",
       "        -1.0347e+00, -5.1948e-01, -1.1697e-01,  1.9950e-01,  4.4798e-01,\n",
       "         6.4116e-01,  7.8821e-01,  8.9600e-01,  9.6978e-01,  1.0137e+00,\n",
       "         1.0311e+00,  1.0249e+00,  9.9732e-01,  9.5056e-01,  8.8648e-01,\n",
       "         8.0678e-01,  7.1306e-01,  6.0680e-01,  4.8944e-01,  3.6235e-01,\n",
       "         2.2685e-01,  8.4244e-02, -6.4212e-02, -2.1728e-01, -3.7374e-01,\n",
       "        -5.3241e-01, -6.9212e-01, -8.5174e-01, -1.0102e+00, -1.1663e+00,\n",
       "        -1.3191e+00, -1.4675e+00, -1.6106e+00, -1.7475e+00, -1.8772e+00,\n",
       "        -1.9989e+00, -2.1119e+00, -2.2153e+00, -2.3084e+00, -2.3908e+00],\n",
       "       dtype=torch.float64)"
      ]
     },
     "execution_count": 628,
     "metadata": {},
     "output_type": "execute_result"
    },
    {
     "data": {
      "image/png": "[encoded data removed]",
      "text/plain": [
       "<Figure size 640x480 with 1 Axes>"
      ]
     },
     "metadata": {},
     "output_type": "display_data"
    }
   ],
   "source": [
    "# 5 - just printing plot\n",
    "range = np.linspace(- np.pi, np.pi, 100)\n",
    "x = torch.tensor(range, requires_grad=True)\n",
    "\n",
    "y = ((torch.log(x**2)) * torch.sin(x)) + x**(-1)\n",
    "y.sum().backward(retain_graph=True)\n",
    "\n",
    "axes = pyplot.gca()\n",
    "axes.set_xlabel(\"x\")\n",
    "axes.set_ylabel(\"y\")\n",
    "axes.grid()\n",
    "\n",
    "axes.plot(x.detach(), y.detach())\n",
    "axes.plot(x.detach(), x.grad)\n",
    "x.grad"
   ]
  }
 ],
 "metadata": {
  "kernelspec": {
   "display_name": "Python 3",
   "language": "python",
   "name": "python3"
  },
  "language_info": {
   "codemirror_mode": {
    "name": "ipython",
    "version": 3
   },
   "file_extension": ".py",
   "mimetype": "text/x-python",
   "name": "python",
   "nbconvert_exporter": "python",
   "pygments_lexer": "ipython3",
   "version": "3.12.2"
  }
 },
 "nbformat": 4,
 "nbformat_minor": 2
}
